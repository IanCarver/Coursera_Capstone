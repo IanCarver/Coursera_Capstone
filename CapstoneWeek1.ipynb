{
    "cells": [
        {
            "cell_type": "markdown",
            "metadata": {
                "collapsed": true
            },
            "source": "Cities like New York are very high density, which can introduce problems for prospective restaurant owners due to an abundance of competition. In order to open a business, they should know what type of restaurant they should open in a particular area. Moreover, as their business begins to expand, they will likely want to branch out into new neighborhoods in the same city."
        },
        {
            "cell_type": "markdown",
            "metadata": {},
            "source": "A lot of the information neccessary to make this decision already exist. Areas where there already many restaurants are likley good locations to open up a new restaurant, because these location have a lot of people looking for food. However, it would be inadvisable to open up a restaurant in an area that already has a similar restaurant nearby."
        },
        {
            "cell_type": "markdown",
            "metadata": {},
            "source": "This project will examine restaurants in New York city neighborhoods in order to determine the density of restaurants in the neighborhood and what types of restaurants these neighborhoods lack. It will also cluster the neighborhoods to determine if there are other neighborhoods in the city which have similar deficits in terms of cuisine that would be ideal for opening new restaurants with the same cuisine. "
        },
        {
            "cell_type": "markdown",
            "metadata": {},
            "source": "Below is an example of what the data being fed into the KNN clustering algorithm will be."
        },
        {
            "cell_type": "markdown",
            "metadata": {},
            "source": "| Neighborhood | Restaurant Density | 1st Least Common Venue | 2nd Least Common Venue | 3rd Least Common Venue  | 4th Least Common Venue  | 5th Least Common Venue  |\n| --- | --- | --- | --- | --- | --- | --- |\n| Marble Hill | 0.2 | Afghan Restaurant | American Restaurant | Filipino Restaurant | Colombian Restaurant | Falafel Restaurant |\n| Chinatown | 0.7 | Doner Restaurant | Ethiopian Restaurant | Colombian Restaurant | French Restaurant | German Restaurant |"
        },
        {
            "cell_type": "markdown",
            "metadata": {},
            "source": "This data will allow the algorithm to be able to determine which types of restaurants are the least common in particular neighborhoods, and groups of neighborhoods. A list of neighborhoods will be obtained from Wikipedia, and the restaurant data will be obtained from the Foursquare API."
        }
    ],
    "metadata": {
        "kernelspec": {
            "display_name": "Python 3.7",
            "language": "python",
            "name": "python3"
        },
        "language_info": {
            "codemirror_mode": {
                "name": "ipython",
                "version": 3
            },
            "file_extension": ".py",
            "mimetype": "text/x-python",
            "name": "python",
            "nbconvert_exporter": "python",
            "pygments_lexer": "ipython3",
            "version": "3.7.10"
        }
    },
    "nbformat": 4,
    "nbformat_minor": 1
}